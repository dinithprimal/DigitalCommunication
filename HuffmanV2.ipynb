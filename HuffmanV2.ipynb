{
  "nbformat": 4,
  "nbformat_minor": 0,
  "metadata": {
    "colab": {
      "provenance": [],
      "authorship_tag": "ABX9TyMHwsjnN/s8Ky1aGr0OKqm3",
      "include_colab_link": true
    },
    "kernelspec": {
      "name": "python3",
      "display_name": "Python 3"
    },
    "language_info": {
      "name": "python"
    }
  },
  "cells": [
    {
      "cell_type": "markdown",
      "metadata": {
        "id": "view-in-github",
        "colab_type": "text"
      },
      "source": [
        "<a href=\"https://colab.research.google.com/github/dinithprimal/DigitalCommunication/blob/main/HuffmanV2.ipynb\" target=\"_parent\"><img src=\"https://colab.research.google.com/assets/colab-badge.svg\" alt=\"Open In Colab\"/></a>"
      ]
    },
    {
      "cell_type": "code",
      "execution_count": null,
      "metadata": {
        "id": "QVZak96_8w9J"
      },
      "outputs": [],
      "source": [
        "# This work for Assingment in Huffman Coding for Digital Communication Module\n",
        "# in MSc. Wireless Communication Programe\n",
        "\n",
        "# Importing usuable Libraries\n",
        "\n",
        "import pandas as pd\n",
        "import numpy as np"
      ]
    },
    {
      "cell_type": "code",
      "source": [
        "# Function for count number of the unique values\n",
        "\n",
        "def findUniqueValues(symbol):\n",
        "  # We can find easily using bellow function\n",
        "  # unique, counts = np.unique(symbol, return_counts=True)\n",
        "\n",
        "  # Find unique values\n",
        "  unique = []\n",
        "  for item in symbol:\n",
        "    if item not in unique:\n",
        "      unique.append(item)\n",
        "\n",
        "  # Count the each unique numbers\n",
        "  count = []\n",
        "  for val in unique:\n",
        "    count.append(symbol.count(val))\n",
        "\n",
        "  # Return the unique values and their occenreces\n",
        "  return unique, count"
      ],
      "metadata": {
        "id": "_d3GvkVF-CBY"
      },
      "execution_count": null,
      "outputs": []
    },
    {
      "cell_type": "code",
      "source": [
        "# Function for find probability of each unique values\n",
        "\n",
        "def findProbability(dec_counts):\n",
        "  prob_counts = []\n",
        "  for val in dec_counts:\n",
        "    prob_counts.append(round(val/sum(dec_counts), 2))\n",
        "  return prob_counts"
      ],
      "metadata": {
        "id": "Exl2ydg_lMqR"
      },
      "execution_count": null,
      "outputs": []
    },
    {
      "cell_type": "code",
      "source": [
        "# Huffman node\n",
        "\n",
        "class huffNode():\n",
        "  def __init__(self, bottom=None, top=None):\n",
        "    self.bottom = bottom\n",
        "    self.top = top\n",
        "\n",
        "  def children(self):\n",
        "    return self.bottom, self.top\n",
        "\n",
        "  def __str__(self):\n",
        "    return self.bottom, self.top\n"
      ],
      "metadata": {
        "id": "_e_dEV-8Dt2a"
      },
      "execution_count": null,
      "outputs": []
    },
    {
      "cell_type": "code",
      "source": [
        "# Huffman Tree Generator\n",
        "\n",
        "def make_tree(nodes):\n",
        "    \n",
        "  while len(nodes) > 1:\n",
        "    (key1, c1) = nodes[-1]\n",
        "    (key2, c2) = nodes[-2]\n",
        "    nodes = nodes[:-2]\n",
        "    node = huffNode(key1, key2)\n",
        "    nodes.append((node, c1 + c2))\n",
        "    nodes = sorted(nodes, key=lambda x: x[1], reverse=True)\n",
        "  return nodes[0][0]"
      ],
      "metadata": {
        "id": "2wtE5IR1OMkJ"
      },
      "execution_count": null,
      "outputs": []
    },
    {
      "cell_type": "code",
      "source": [
        "# Generating Huffman code\n",
        "\n",
        "def huffmanCode(probSym):\n",
        "  if ((sum(probSym) == 1) & (len(probSym)==2)):\n",
        "    return ['0', '1']\n",
        "  else:\n",
        "    probSy = probSym.copy()\n",
        "    probSy[0:2] = [probSym[0]+probSym[1]]\n",
        "    probSy.sort()\n",
        "    sym = huffmanCode(probSy)\n",
        "    return "
      ],
      "metadata": {
        "id": "HQAnaCKmvzdY"
      },
      "execution_count": null,
      "outputs": []
    },
    {
      "cell_type": "code",
      "source": [
        "def huffman_code_tree(node, binString=''):\n",
        "    \n",
        "  if type(node) is str:\n",
        "    return {node: binString}\n",
        "  (l, r) = node.children()\n",
        "  d = dict()\n",
        "  d.update(huffman_code_tree(l, binString + '0'))\n",
        "  d.update(huffman_code_tree(r, binString + '1'))\n",
        "  return d"
      ],
      "metadata": {
        "id": "1CX3iWahTsqU"
      },
      "execution_count": null,
      "outputs": []
    },
    {
      "cell_type": "code",
      "source": [
        "# Main code\n",
        "\n",
        "symbol = ['D', 'A', 'B', 'B', 'C', 'A', 'A', 'C', 'C','C', 'D', 'A', 'B', 'B', 'D', 'C', 'C', 'A']\n",
        "\n",
        "# Finding unique values\n",
        "unique, counts = findUniqueValues(symbol)\n",
        "\n",
        "# Finding probabilities\n",
        "prob_counts = findProbability(counts)\n",
        "\n",
        "# Creating a dictionary for further process\n",
        "dict_huff = dict(zip(unique, counts))\n",
        "\n",
        "# sor the dictionary\n",
        "huff = sorted(dict_huff.items(), key=lambda x: x[1], reverse=True)\n",
        "\n",
        "# Making the node tree (huffman tree)\n",
        "node = make_tree(huff)\n",
        "\n",
        "# Coding the huffman\n",
        "encoding = huffman_code_tree(node)\n",
        "\n",
        "# Printing encoded values\n",
        "for i in encoding:\n",
        "  print(f'{i} : {encoding[i]}')\n",
        "print(encoding)\n",
        "\n",
        "# Process for data frame (for preview the data)\n",
        "sor_unique = unique.copy()\n",
        "sor_unique.sort()\n",
        "sor_fequ = []\n",
        "code = []\n",
        "size = []\n",
        "totSize = []\n",
        "for x in sor_unique:\n",
        "  sor_fequ.append(dict_huff[x])\n",
        "  code.append(encoding[x])\n",
        "  size.append(''+str(dict_huff[x])+'*'+str(len(encoding[x]))+'='+str(dict_huff[x]*len(encoding[x])))\n",
        "  totSize.append(dict_huff[x]*len(encoding[x]))\n",
        "\n",
        "data = {'Character': sor_unique, 'Frequency': sor_fequ, 'Code': code, 'Size': size}\n",
        "\n",
        "# Priveiw the data\n",
        "df1 = pd.DataFrame(data)\n",
        "df2 = pd.DataFrame({\"Character\": [''+str(len(sor_unique))+'*8 = '+str(len(sor_unique)*8)],\n",
        "                    \"Frequency\": [''+str(sum(sor_fequ)*8)+' bits'],\n",
        "                    \"Code\": [''],\n",
        "                    \"Size\": [''+str(sum(totSize))+' bits']\n",
        "                    })\n",
        "df = pd.concat([df1, df2])\n",
        "display(df.style.hide_index())"
      ],
      "metadata": {
        "colab": {
          "base_uri": "https://localhost:8080/",
          "height": 293
        },
        "id": "erX6poOz-Ge_",
        "outputId": "f845c194-ed63-41db-b8a2-2c8ff0d7d055"
      },
      "execution_count": null,
      "outputs": [
        {
          "output_type": "stream",
          "name": "stdout",
          "text": [
            "D : 00\n",
            "B : 01\n",
            "A : 10\n",
            "C : 11\n",
            "{'D': '00', 'B': '01', 'A': '10', 'C': '11'}\n"
          ]
        },
        {
          "output_type": "display_data",
          "data": {
            "text/plain": [
              "<pandas.io.formats.style.Styler at 0x7f09c87b1910>"
            ],
            "text/html": [
              "<style type=\"text/css\">\n",
              "</style>\n",
              "<table id=\"T_dc58b_\" class=\"dataframe\">\n",
              "  <thead>\n",
              "    <tr>\n",
              "      <th class=\"col_heading level0 col0\" >Character</th>\n",
              "      <th class=\"col_heading level0 col1\" >Frequency</th>\n",
              "      <th class=\"col_heading level0 col2\" >Code</th>\n",
              "      <th class=\"col_heading level0 col3\" >Size</th>\n",
              "    </tr>\n",
              "  </thead>\n",
              "  <tbody>\n",
              "    <tr>\n",
              "      <td id=\"T_dc58b_row0_col0\" class=\"data row0 col0\" >A</td>\n",
              "      <td id=\"T_dc58b_row0_col1\" class=\"data row0 col1\" >5</td>\n",
              "      <td id=\"T_dc58b_row0_col2\" class=\"data row0 col2\" >10</td>\n",
              "      <td id=\"T_dc58b_row0_col3\" class=\"data row0 col3\" >5*2=10</td>\n",
              "    </tr>\n",
              "    <tr>\n",
              "      <td id=\"T_dc58b_row1_col0\" class=\"data row1 col0\" >B</td>\n",
              "      <td id=\"T_dc58b_row1_col1\" class=\"data row1 col1\" >4</td>\n",
              "      <td id=\"T_dc58b_row1_col2\" class=\"data row1 col2\" >01</td>\n",
              "      <td id=\"T_dc58b_row1_col3\" class=\"data row1 col3\" >4*2=8</td>\n",
              "    </tr>\n",
              "    <tr>\n",
              "      <td id=\"T_dc58b_row2_col0\" class=\"data row2 col0\" >C</td>\n",
              "      <td id=\"T_dc58b_row2_col1\" class=\"data row2 col1\" >6</td>\n",
              "      <td id=\"T_dc58b_row2_col2\" class=\"data row2 col2\" >11</td>\n",
              "      <td id=\"T_dc58b_row2_col3\" class=\"data row2 col3\" >6*2=12</td>\n",
              "    </tr>\n",
              "    <tr>\n",
              "      <td id=\"T_dc58b_row3_col0\" class=\"data row3 col0\" >D</td>\n",
              "      <td id=\"T_dc58b_row3_col1\" class=\"data row3 col1\" >3</td>\n",
              "      <td id=\"T_dc58b_row3_col2\" class=\"data row3 col2\" >00</td>\n",
              "      <td id=\"T_dc58b_row3_col3\" class=\"data row3 col3\" >3*2=6</td>\n",
              "    </tr>\n",
              "    <tr>\n",
              "      <td id=\"T_dc58b_row4_col0\" class=\"data row4 col0\" >4*8 = 32</td>\n",
              "      <td id=\"T_dc58b_row4_col1\" class=\"data row4 col1\" >144 bits</td>\n",
              "      <td id=\"T_dc58b_row4_col2\" class=\"data row4 col2\" ></td>\n",
              "      <td id=\"T_dc58b_row4_col3\" class=\"data row4 col3\" >36 bits</td>\n",
              "    </tr>\n",
              "  </tbody>\n",
              "</table>\n"
            ]
          },
          "metadata": {}
        }
      ]
    }
  ]
}